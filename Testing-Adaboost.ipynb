{
 "cells": [
  {
   "cell_type": "code",
   "execution_count": 1,
   "metadata": {
    "collapsed": true
   },
   "outputs": [],
   "source": [
    "from sklearn.datasets import make_hastie_10_2\n",
    "from sklearn.model_selection import train_test_split\n",
    "import time"
   ]
  },
  {
   "cell_type": "code",
   "execution_count": 2,
   "metadata": {
    "collapsed": true
   },
   "outputs": [],
   "source": [
    "x, y = make_hastie_10_2()\n",
    "X_train, X_test, y_train, y_test = train_test_split(x, y, test_size=0.33, random_state=42)"
   ]
  },
  {
   "cell_type": "code",
   "execution_count": 12,
   "metadata": {
    "collapsed": false
   },
   "outputs": [
    {
     "name": "stdout",
     "output_type": "stream",
     "text": [
      "Training in 113.78063797950745 seconds.\n",
      "precision = 0.8752525252525253\n"
     ]
    }
   ],
   "source": [
    "from src.Ensemble.Boosting import AdaBoost\n",
    "\n",
    "adaboost = AdaBoost()\n",
    "t1 = time.time()\n",
    "adaboost.fit(X_train, y_train, 10)\n",
    "print(\"Training in {} seconds.\".format(time.time()-t1))\n",
    "pred = adaboost.predict(X_test)\n",
    "print(\"precision = {}\".format(sum(pred == y_test)/len(y_test)))"
   ]
  },
  {
   "cell_type": "code",
   "execution_count": 8,
   "metadata": {
    "collapsed": false
   },
   "outputs": [
    {
     "name": "stdout",
     "output_type": "stream",
     "text": [
      "Training in 0.614417314529419 seconds.\n",
      "precision = 0.8823232323232323\n"
     ]
    }
   ],
   "source": [
    "from sklearn import ensemble\n",
    "\n",
    "clf = ensemble.AdaBoostClassifier()\n",
    "t1 = time.time()\n",
    "clf = clf.fit(X_train, y_train)\n",
    "print(\"Training in {} seconds.\".format(time.time()-t1))\n",
    "pred = clf.predict(X_test)\n",
    "print(\"precision = {}\".format(sum(pred == y_test)/len(y_test)))"
   ]
  }
 ],
 "metadata": {
  "kernelspec": {
   "display_name": "Python 3",
   "language": "python",
   "name": "python3"
  },
  "language_info": {
   "codemirror_mode": {
    "name": "ipython",
    "version": 3
   },
   "file_extension": ".py",
   "mimetype": "text/x-python",
   "name": "python",
   "nbconvert_exporter": "python",
   "pygments_lexer": "ipython3",
   "version": "3.6.0"
  }
 },
 "nbformat": 4,
 "nbformat_minor": 2
}
