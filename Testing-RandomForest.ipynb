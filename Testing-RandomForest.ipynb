{
 "cells": [
  {
   "cell_type": "code",
   "execution_count": 1,
   "metadata": {
    "collapsed": true
   },
   "outputs": [],
   "source": [
    "from sklearn.datasets import make_hastie_10_2\n",
    "from sklearn.model_selection import train_test_split\n",
    "import time"
   ]
  },
  {
   "cell_type": "code",
   "execution_count": 2,
   "metadata": {
    "collapsed": true
   },
   "outputs": [],
   "source": [
    "x, y = make_hastie_10_2()\n",
    "X_train, X_test, y_train, y_test = train_test_split(x, y, test_size=0.33, random_state=42)"
   ]
  },
  {
   "cell_type": "code",
   "execution_count": 5,
   "metadata": {
    "collapsed": false
   },
   "outputs": [
    {
     "name": "stdout",
     "output_type": "stream",
     "text": [
      "tree 0 fit complete\n",
      "tree 1 fit complete\n",
      "tree 2 fit complete\n",
      "tree 3 fit complete\n",
      "tree 4 fit complete\n",
      "tree 5 fit complete\n",
      "tree 6 fit complete\n",
      "tree 7 fit complete\n",
      "tree 8 fit complete\n",
      "tree 9 fit complete\n",
      "tree 10 fit complete\n",
      "tree 11 fit complete\n",
      "tree 12 fit complete\n",
      "tree 13 fit complete\n",
      "tree 14 fit complete\n",
      "tree 15 fit complete\n",
      "tree 16 fit complete\n",
      "tree 17 fit complete\n",
      "tree 18 fit complete\n",
      "tree 19 fit complete\n",
      "tree 20 fit complete\n",
      "tree 21 fit complete\n",
      "tree 22 fit complete\n",
      "tree 23 fit complete\n",
      "tree 24 fit complete\n",
      "tree 25 fit complete\n",
      "tree 26 fit complete\n",
      "tree 27 fit complete\n",
      "tree 28 fit complete\n",
      "tree 29 fit complete\n",
      "tree 30 fit complete\n",
      "tree 31 fit complete\n",
      "tree 32 fit complete\n",
      "tree 33 fit complete\n",
      "tree 34 fit complete\n",
      "tree 35 fit complete\n",
      "tree 36 fit complete\n",
      "tree 37 fit complete\n",
      "tree 38 fit complete\n",
      "tree 39 fit complete\n",
      "tree 40 fit complete\n",
      "tree 41 fit complete\n",
      "tree 42 fit complete\n",
      "tree 43 fit complete\n",
      "tree 44 fit complete\n",
      "tree 45 fit complete\n",
      "tree 46 fit complete\n",
      "tree 47 fit complete\n",
      "tree 48 fit complete\n",
      "tree 49 fit complete\n",
      "Training in 487.62259006500244 seconds.\n",
      "precision = 0.9138888888888889\n"
     ]
    }
   ],
   "source": [
    "from src.Ensemble.RandomForest import RandomForest\n",
    "\n",
    "Tree = RandomForest(n_estimators=50, max_features=10)\n",
    "t1 = time.time()\n",
    "Tree.fit(X_train, y_train)\n",
    "print(\"Training in {} seconds.\".format(time.time()-t1))\n",
    "pred = Tree.predict(X_test)\n",
    "print(\"precision = {}\".format(sum(pred == y_test)/len(y_test)))"
   ]
  },
  {
   "cell_type": "code",
   "execution_count": 6,
   "metadata": {
    "collapsed": false
   },
   "outputs": [
    {
     "name": "stdout",
     "output_type": "stream",
     "text": [
      "Training in 0.3329448699951172 seconds.\n",
      "precision = 0.86489898989899\n"
     ]
    }
   ],
   "source": [
    "from sklearn import ensemble\n",
    "\n",
    "clf = ensemble.RandomForestClassifier()\n",
    "t1 = time.time()\n",
    "clf = clf.fit(X_train, y_train)\n",
    "print(\"Training in {} seconds.\".format(time.time()-t1))\n",
    "pred = clf.predict(X_test)\n",
    "print(\"precision = {}\".format(sum(pred == y_test)/len(y_test)))"
   ]
  },
  {
   "cell_type": "code",
   "execution_count": null,
   "metadata": {
    "collapsed": true
   },
   "outputs": [],
   "source": []
  }
 ],
 "metadata": {
  "kernelspec": {
   "display_name": "Python 3",
   "language": "python",
   "name": "python3"
  },
  "language_info": {
   "codemirror_mode": {
    "name": "ipython",
    "version": 3
   },
   "file_extension": ".py",
   "mimetype": "text/x-python",
   "name": "python",
   "nbconvert_exporter": "python",
   "pygments_lexer": "ipython3",
   "version": "3.6.0"
  }
 },
 "nbformat": 4,
 "nbformat_minor": 2
}
